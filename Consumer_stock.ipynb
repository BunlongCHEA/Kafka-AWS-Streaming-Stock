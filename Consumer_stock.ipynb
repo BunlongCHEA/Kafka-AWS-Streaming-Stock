{
 "cells": [
  {
   "cell_type": "code",
   "execution_count": null,
   "id": "adf029eb",
   "metadata": {},
   "outputs": [],
   "source": [
    "pip install s3fs"
   ]
  },
  {
   "cell_type": "code",
   "execution_count": null,
   "id": "9b389947",
   "metadata": {},
   "outputs": [],
   "source": [
    "from kafka import KafkaConsumer\n",
    "from time import sleep\n",
    "from json import dumps, loads \n",
    "import json\n",
    "from s3fs import S3FileSystem"
   ]
  },
  {
   "cell_type": "code",
   "execution_count": null,
   "id": "5ceb7e68",
   "metadata": {},
   "outputs": [],
   "source": [
    "# Connect kafka producer to AWS server with decoder 'utf-8'\n",
    "consumer = KafkaConsumer(\n",
    "                        'stock_market_demo',\n",
    "                        bootstrap_servers= ['43.206.231.106:9092'], # change public ip here\n",
    "                       value_deserializer=lambda x: loads(x.decode('utf-8')))"
   ]
  },
  {
   "cell_type": "code",
   "execution_count": null,
   "id": "37add6a4",
   "metadata": {},
   "outputs": [],
   "source": [
    "# Receive message from producer here\n",
    "for c in consumer:\n",
    "    print(c.value)"
   ]
  },
  {
   "cell_type": "code",
   "execution_count": null,
   "id": "2f12edd3",
   "metadata": {},
   "outputs": [],
   "source": [
    "# create s3 bucket from AWS\n",
    "s3 = S3FileSystem()"
   ]
  },
  {
   "cell_type": "code",
   "execution_count": null,
   "id": "91385b36",
   "metadata": {},
   "outputs": [],
   "source": [
    "# use count to distinct filename and store each message in s3 bucket that just create and store it in Json file\n",
    "for count, i in enumerate(consumer):\n",
    "    with s3.open(\"s3://stock-market-long/stock_market_{}.json\".format(count),\"w\") as file:\n",
    "        json.dump(i.value, file)"
   ]
  }
 ],
 "metadata": {
  "kernelspec": {
   "display_name": "Python 3 (ipykernel)",
   "language": "python",
   "name": "python3"
  },
  "language_info": {
   "codemirror_mode": {
    "name": "ipython",
    "version": 3
   },
   "file_extension": ".py",
   "mimetype": "text/x-python",
   "name": "python",
   "nbconvert_exporter": "python",
   "pygments_lexer": "ipython3",
   "version": "3.9.13"
  }
 },
 "nbformat": 4,
 "nbformat_minor": 5
}
